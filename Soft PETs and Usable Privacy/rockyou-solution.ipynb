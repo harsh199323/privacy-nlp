{
 "cells": [
  {
   "cell_type": "code",
   "execution_count": 5,
   "metadata": {},
   "outputs": [
    {
     "name": "stdout",
     "output_type": "stream",
     "text": [
      "                      0\n",
      "0                123456\n",
      "1                 12345\n",
      "2             123456789\n",
      "3              password\n",
      "4              iloveyou\n",
      "...                 ...\n",
      "14265288       \u001axCvBnM,\n",
      "14265289        ie168\n",
      "14265290    abygurl69\n",
      "14265291       a6_123\n",
      "14265292  \u0004*\u00037Â¡Vamos!\u0003\n",
      "\n",
      "[14265293 rows x 1 columns]\n"
     ]
    }
   ],
   "source": [
    "import re \n",
    "import pandas as pd\n",
    "\n",
    "#https://stackoverflow.com/questions/2990654/how-to-test-a-regex-password-in-python\n",
    "\n",
    "passwords = pd.read_csv('rockyou.txt', sep=\" \", header = None, on_bad_lines='skip', encoding='latin1')\n",
    "print(passwords)\n"
   ]
  },
  {
   "cell_type": "code",
   "execution_count": 7,
   "metadata": {},
   "outputs": [
    {
     "name": "stdout",
     "output_type": "stream",
     "text": [
      "                    0\n",
      "704195      P@55wordd\n",
      "1036576    W@chtw00rd\n",
      "1040251    S@tbfflad1\n",
      "1040273     S+ryd0m^^\n",
      "1041266     R@hx3phon\n",
      "1042619     P@ssword1\n",
      "1051030  H@mish300595\n",
      "1056002    C@veGirl93\n",
      "1056003     C@d@nc306\n"
     ]
    }
   ],
   "source": [
    "top10_df = passwords[0].str.contains(r'^(?=.*[A-Z])(?=.*[a-z])(?=.*[0-9])(?=.[@#$%^&+=])[A-Za-z0-9@#$%^&+=]{9,}$', na=False)\n",
    "print(passwords[top10_df][1:10])"
   ]
  }
 ],
 "metadata": {
  "kernelspec": {
   "display_name": "Python 3",
   "language": "python",
   "name": "python3"
  },
  "language_info": {
   "codemirror_mode": {
    "name": "ipython",
    "version": 3
   },
   "file_extension": ".py",
   "mimetype": "text/x-python",
   "name": "python",
   "nbconvert_exporter": "python",
   "pygments_lexer": "ipython3",
   "version": "3.10.7"
  },
  "orig_nbformat": 4,
  "vscode": {
   "interpreter": {
    "hash": "415d3dae6cc11c0d197c75d143e30419973e352fadefded5aeeb86e42919afed"
   }
  }
 },
 "nbformat": 4,
 "nbformat_minor": 2
}
