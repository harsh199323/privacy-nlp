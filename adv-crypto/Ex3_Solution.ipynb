{
 "cells": [
  {
   "cell_type": "markdown",
   "id": "3fa81e28-9ff1-41a1-96dc-60bf24a770ed",
   "metadata": {
    "tags": []
   },
   "source": [
    "# Exercise 3: Advanced Cryptography (Homomorphic encryption)\n"
   ]
  },
  {
   "cell_type": "markdown",
   "id": "3bde3196-3849-4602-8474-154ffa170629",
   "metadata": {},
   "source": [
    "This third exercise is on the topic of Advanced Cryptography (more specifically, Homomorphic Encryption). The learning goal of this exercise is twofold:\n",
    "1. To learn about partial and full homomorphic encryption\n",
    "2. To demonstrate potential usecases for both"
   ]
  },
  {
   "cell_type": "markdown",
   "id": "4e9fa835-91be-417d-8810-de85dcbe82e2",
   "metadata": {},
   "source": [
    "## Partial Homomorphic Encryption (PHE)\n",
    "We start this exercise by looking at Partial Homomorphic Encryption (PHE). For this, we'll look at the RSA and Paillier cryptosystems."
   ]
  },
  {
   "cell_type": "markdown",
   "id": "099de278-cdf2-47f1-aeed-78b92e39261e",
   "metadata": {},
   "source": [
    "### RSA\n",
    "Let's explore how RSA can be used for homomorphic encryption. More information on how the cryptosystem works can be found [here](https://en.wikipedia.org/wiki/RSA_(cryptosystem)#Operation).\n",
    "\n",
    "First, choose two prime numbers $p$ and $q$:"
   ]
  },
  {
   "cell_type": "code",
   "execution_count": 1,
   "id": "5d72f750-b328-4a40-bbd5-37eef835233c",
   "metadata": {},
   "outputs": [],
   "source": [
    "p = 3\n",
    "q = 11"
   ]
  },
  {
   "cell_type": "markdown",
   "id": "2e7b0d2d-a149-464e-9704-f30c48526416",
   "metadata": {},
   "source": [
    "Then compute modulo $N$ and coprime $T$:"
   ]
  },
  {
   "cell_type": "code",
   "execution_count": 2,
   "id": "8e6374b8-ba80-46c1-b7d2-10bd016d50cd",
   "metadata": {},
   "outputs": [],
   "source": [
    "N = p*q\n",
    "T = (p-1)*(q-1)"
   ]
  },
  {
   "cell_type": "markdown",
   "id": "ec29f202-b62d-475e-8e59-812a611df9c6",
   "metadata": {},
   "source": [
    "Now, select a public key $e$ for which the following holds true:\n",
    "- $2 < e < λ(N)$\n",
    "- $gcd(e, λ(N)) = 1$\n",
    "- $e$ and $λ(N)$ are coprime\n",
    "\n",
    "Note that $λ(N)$ here refers to the [Carmichael function](https://en.wikipedia.org/wiki/Carmichael_function)."
   ]
  },
  {
   "cell_type": "code",
   "execution_count": 3,
   "id": "9fe4f062-1d19-4dc3-9863-551d1c940378",
   "metadata": {},
   "outputs": [],
   "source": [
    "e = 3"
   ]
  },
  {
   "cell_type": "markdown",
   "id": "1fc3e91f-6046-48ff-9383-1069c956cbf7",
   "metadata": {},
   "source": [
    "We can now compute the private key $d$ where:\n",
    "$$\n",
    "    de ≡ 1 (mod λ(n))\n",
    "$$"
   ]
  },
  {
   "cell_type": "code",
   "execution_count": 4,
   "id": "d2050535-0b2a-4b82-8f4d-2578f5350d77",
   "metadata": {},
   "outputs": [],
   "source": [
    "d = 7"
   ]
  },
  {
   "cell_type": "markdown",
   "id": "dee27c92-9825-41f2-833a-ed89288c0189",
   "metadata": {},
   "source": [
    "This gives us the following keys:"
   ]
  },
  {
   "cell_type": "code",
   "execution_count": 5,
   "id": "2c2a031f-1353-4c72-8437-de9b5a31be5d",
   "metadata": {},
   "outputs": [
    {
     "name": "stdout",
     "output_type": "stream",
     "text": [
      "PK = (3, 33), SK = (7, 33)\n"
     ]
    }
   ],
   "source": [
    "publicKey = (e,N)\n",
    "secretKey = (d, N)\n",
    "print(f\"PK = {publicKey}, SK = {secretKey}\")"
   ]
  },
  {
   "cell_type": "markdown",
   "id": "5dd18610-fab7-4454-8e26-700f8df2f9ff",
   "metadata": {},
   "source": [
    "Now that we have our keys, we can start encrypting! Suppose that we want to encrypt the string *CAR*, where each letter is represented by their place in the alphabet ($A=1$, $B=2$ etc.).\n",
    "\n",
    "To compute the cyphertext $C$ of message $M$ (converted to an integer), we use:\n",
    "$$\n",
    "    C ≡ M^e(mod N)\n",
    "$$"
   ]
  },
  {
   "cell_type": "code",
   "execution_count": 6,
   "id": "821818ca-2343-4340-8be5-0c5e7a6bae7c",
   "metadata": {},
   "outputs": [
    {
     "name": "stdout",
     "output_type": "stream",
     "text": [
      "[27, 31, 24]\n"
     ]
    }
   ],
   "source": [
    "C= 3\n",
    "A= 4\n",
    "R= 18\n",
    "\n",
    "cypher = [(C**e)%N, (A**e)%N, (R**e)%N]\n",
    "print(cypher)"
   ]
  },
  {
   "cell_type": "markdown",
   "id": "7b6f302f-4856-4ca6-9691-a9a22b5afa25",
   "metadata": {},
   "source": [
    "To decrypt cyphertext $C$, we use:\n",
    "$$\n",
    "    C^d ≡ (M^e)^d ≡ M (mod N)\n",
    "$$"
   ]
  },
  {
   "cell_type": "code",
   "execution_count": 7,
   "id": "a61ffd83-3b48-4081-8993-1ca888476ef7",
   "metadata": {},
   "outputs": [
    {
     "name": "stdout",
     "output_type": "stream",
     "text": [
      "Decrypted cyphertext = [3, 4, 18], original message = [3, 4, 18]\n"
     ]
    }
   ],
   "source": [
    "decrypted = [((cypherText**d)%N) for cypherText in cypher]\n",
    "print(f\"Decrypted cyphertext = {decrypted}, original message = {[C, A, R]}\")"
   ]
  },
  {
   "cell_type": "markdown",
   "id": "400eb011-284d-49e1-8261-e58dcc09e8e0",
   "metadata": {},
   "source": [
    "#### Question 1\n",
    "Let $c1=31$ and $c2=27$. Can you decrypt $c1$, $c2$ and $c=c1*c2$ by hand? "
   ]
  },
  {
   "cell_type": "code",
   "execution_count": 8,
   "id": "07bc783b-f6cc-4962-b566-eb4a5ed38cce",
   "metadata": {},
   "outputs": [
    {
     "data": {
      "text/plain": [
       "(4, 3, 12)"
      ]
     },
     "execution_count": 8,
     "metadata": {},
     "output_type": "execute_result"
    }
   ],
   "source": [
    "# Your answer here\n",
    "### Solution\n",
    "c = 27*31\n",
    "\n",
    "decrypted_c1 = 31**d%N\n",
    "decrypted_c2 = 27**d%N\n",
    "decrypted_c = c**d%N\n",
    "decrypted_c1,decrypted_c2, decrypted_c\n",
    "### Solution end"
   ]
  },
  {
   "cell_type": "markdown",
   "id": "77e97470-2747-4465-9ca6-f555199fbad7",
   "metadata": {},
   "source": [
    "#### Question 2\n",
    "To what operations does the homomorphic property apply to? How many iterations are supported?"
   ]
  },
  {
   "cell_type": "markdown",
   "id": "0e454d86-2a4b-4c75-8430-fca9b4f2daf2",
   "metadata": {},
   "source": [
    "*Your answer here*\n",
    "<span style=\"color:red\">\n",
    "    Solution: It only applies to multiplication, with no limit to iterations\n",
    "</span>"
   ]
  },
  {
   "cell_type": "markdown",
   "id": "1052ef65-a294-424f-a297-6cc4ebdc7ec3",
   "metadata": {},
   "source": [
    "#### Question 3\n",
    "Try to perform 100 multiplications on encrypted numbers. Is the result correct?"
   ]
  },
  {
   "cell_type": "code",
   "execution_count": 9,
   "id": "5591b22e-0d4b-4513-8a9e-3ed9ccf5026e",
   "metadata": {},
   "outputs": [
    {
     "name": "stdout",
     "output_type": "stream",
     "text": [
      "All done\n"
     ]
    }
   ],
   "source": [
    "# Your code here\n",
    "### Solution\n",
    "import random\n",
    "def Enc(m):\n",
    "    return (m**e) % N\n",
    "\n",
    "def Dec(c):\n",
    "    return (c**d) % N\n",
    "\n",
    "result = 1\n",
    "enc_result = Enc(1)\n",
    "for i in range(1, 101):\n",
    "    rand = random.randint(1, 2)\n",
    "    result *= rand\n",
    "    enc_result *= Enc(rand)\n",
    "    if result % N != Dec(enc_result):\n",
    "        print(f\"Invalid after {i} iterations\")\n",
    "        break\n",
    "print(\"All done\")\n",
    "### Solution end   "
   ]
  },
  {
   "cell_type": "markdown",
   "id": "09b8457b-aa13-4346-b394-9a9fff5bf6de",
   "metadata": {},
   "source": [
    "### Paillier\n",
    "Let's consider a key pair `Pk` for the Paillier's scheme where\n",
    "$$\n",
    "    Pk = (n, g), Sk = (λ, μ)\n",
    "$$\n",
    "and\n",
    "* $p = 13$\n",
    "* $q = 17$\n",
    "* $n = 221$\n",
    "* $λ = 48$\n",
    "* $g = 4886$\n",
    "* $μ = 159$"
   ]
  },
  {
   "cell_type": "code",
   "execution_count": 10,
   "id": "b7abbfd0-a5e7-4972-9f87-8f959b1ce28e",
   "metadata": {
    "collapsed": false,
    "jupyter": {
     "outputs_hidden": false
    }
   },
   "outputs": [],
   "source": [
    "p = 13\n",
    "q = 17\n",
    "n = 221\n",
    "g = 4886\n",
    "phi = 48\n",
    "mu = 159"
   ]
  },
  {
   "cell_type": "code",
   "execution_count": 11,
   "id": "e9281dee-0a4a-4350-aa29-78127d4fbc84",
   "metadata": {
    "collapsed": false,
    "jupyter": {
     "outputs_hidden": false
    }
   },
   "outputs": [],
   "source": [
    "def encrypt(m, r):\n",
    "    return ((g**m)*(r**n))%(n*n)\n",
    "\n",
    "def decrypt(cyph):\n",
    "    return ((((cyph ** phi) % (n * n) - 1) / n) * mu) % n"
   ]
  },
  {
   "cell_type": "markdown",
   "id": "f87898cc-1895-481e-9405-ec6ddd0faf6b",
   "metadata": {
    "tags": []
   },
   "source": [
    "#### Question 4\n",
    "\n",
    "Use the Paillier's scheme to do the following operations:\n",
    "- Let $m1 = 58$ and $m2 = 126$.\n",
    "- Choose two random numbers $r1$ and $r2$\n",
    "- Encrypt $m1$ and $m2$ as $c1$ and $c2$ respectively\n",
    "- Calculate $c = c1 * c2$\n",
    "- Print the decrypted values of $c$, $c1$, $c2$"
   ]
  },
  {
   "cell_type": "code",
   "execution_count": 12,
   "id": "c98612df-0781-4376-aa33-dad429843a57",
   "metadata": {
    "collapsed": false,
    "jupyter": {
     "outputs_hidden": false
    }
   },
   "outputs": [
    {
     "name": "stdout",
     "output_type": "stream",
     "text": [
      "184.0 58.0 126.0 184\n"
     ]
    }
   ],
   "source": [
    "# Your code here\n",
    "### Solution\n",
    "m1 = 58\n",
    "m2 = 126\n",
    "r1 = 666\n",
    "r2 = 999\n",
    "c1 = encrypt(m1, r1)\n",
    "c2 = encrypt(m2, r2)\n",
    "c = c1 * c2\n",
    "print(decrypt(c), decrypt(c1), decrypt(c2), 58 + 126)\n",
    "### Solution end"
   ]
  },
  {
   "cell_type": "markdown",
   "id": "73d17bb6-233a-4ccc-b5b7-c86b509fb907",
   "metadata": {
    "tags": []
   },
   "source": [
    "#### Question 5\n",
    "What can you note about $c$?\n",
    "Does the homomorphic property apply to other types of operations as well?\n",
    "How many iterations are supported?"
   ]
  },
  {
   "cell_type": "markdown",
   "id": "de542f2c-787c-4255-9952-2d87fc7a1be3",
   "metadata": {},
   "source": [
    "*Your answer here*\n",
    "<span style=\"color:red\">\n",
    "    Solution: It is only homomorphic over addition, unlimited iterations are supported.\n",
    "</span>"
   ]
  },
  {
   "cell_type": "markdown",
   "id": "42c3973e-1de3-408b-98a7-30df53e6232f",
   "metadata": {},
   "source": [
    "#### Question 6\n",
    "Why does this classify as Partial Homomorphic Encryption instead of Somewhat Homomorphic Encryption?"
   ]
  },
  {
   "cell_type": "markdown",
   "id": "1859b5e5-4648-40ed-a640-182a7c2c4dd3",
   "metadata": {},
   "source": [
    "*Your answer here*\n",
    "<span style=\"color:red\">\n",
    "    Solution: It classifies as PHE since it only supports one type of operation, but for an unlimited number of iterations.\n",
    "</span>"
   ]
  },
  {
   "cell_type": "markdown",
   "id": "321e7f07-01eb-4308-a6b9-5d45d18f6f23",
   "metadata": {},
   "source": [
    "## Somewhat Homomorphic Encryption (SWHE)\n"
   ]
  },
  {
   "cell_type": "markdown",
   "id": "95fa3a3a-e9ba-4615-b7da-5c9c49a445ca",
   "metadata": {},
   "source": [
    "[Gentry's Blueprint](https://doi.org/10.1145/1666420.1666444) describes a general framework that transforms a SWHE scheme into a FHE scheme. In this task, we will work with the SWHE scheme that Gentry uses in his paper. While this is a symmetric encryption scheme, it can be transformed into an asymmetric scheme as well and can be used to encrypt a single bit."
   ]
  },
  {
   "cell_type": "code",
   "execution_count": 13,
   "id": "78af4bdf-cd20-4dbd-aa73-31be589a6bee",
   "metadata": {},
   "outputs": [],
   "source": [
    "LAMBDA = 8\n",
    "DEBUG = False\n",
    "\n",
    "import random, logging\n",
    "\n",
    "def KeyGenSym(lam=LAMBDA):\n",
    "    \"\"\"\n",
    "    Generate p,\n",
    "    Random P-bit odd integer\n",
    "    P = lam^2\n",
    "    \"\"\"\n",
    "    while True:\n",
    "        key = _generateBits(lam**2)\n",
    "        if (key % 2 == 1):\n",
    "            if DEBUG: print(\"p = {}\".format(key))\n",
    "            return key\n",
    "\n",
    "def EncSym(p, m, lam=LAMBDA):\n",
    "    \"\"\"\n",
    "    Encrypt m in {0, 1}\n",
    "    \"\"\"\n",
    "    if m in [0, 1]:\n",
    "        return generateM(m, lam) + p * generateQ(lam)\n",
    "    raise ValueError(\"m must be in {0, 1}\")\n",
    "\n",
    "def DecSym(p, c):\n",
    "    c_ = (c % p)\n",
    "    if DEBUG: print(\"c' = {}\".format(c_))\n",
    "    return c_ % 2\n",
    "\n",
    "def generateQ(lam):\n",
    "    \"\"\"\n",
    "    Generate q,\n",
    "    Random Q-bit integer\n",
    "    Q = lam^5\n",
    "    \"\"\"\n",
    "    return _generateBits(lam**5)\n",
    "\n",
    "def generateM(m, lam):\n",
    "    \"\"\"\n",
    "    Generate m',\n",
    "    Random N-bit integer\n",
    "    N = lam\n",
    "    m' = m mod 2 \n",
    "    \"\"\"\n",
    "    while True:\n",
    "        M = _generateBits(lam)\n",
    "        if (M - m) % 2 == 0:\n",
    "            if DEBUG: print(\"m' = {}\".format(M))\n",
    "            return M\n",
    "\n",
    "def _generateBits(length):\n",
    "    while True:\n",
    "        ran = random.getrandbits(length)\n",
    "        if len(format(ran, 'b')) == length:\n",
    "            return ran"
   ]
  },
  {
   "cell_type": "markdown",
   "id": "4446ecb4-b9dd-4dc1-a2da-8fa12fa3c629",
   "metadata": {},
   "source": [
    "#### Question 7\n",
    "Generate a key $p$ and encrypt message $m = 1$ to ciphertext $c$. Then, decrypt $c$ and determine whether the decryption results in the correct message."
   ]
  },
  {
   "cell_type": "code",
   "execution_count": 14,
   "id": "8cfccd41-8fd6-4bd9-aa3e-cd6422beafeb",
   "metadata": {},
   "outputs": [
    {
     "name": "stdout",
     "output_type": "stream",
     "text": [
      "1\n"
     ]
    }
   ],
   "source": [
    "# Your code here\n",
    "### Solution\n",
    "p = KeyGenSym()\n",
    "c = EncSym(p, 1)\n",
    "print(DecSym(p, c))\n",
    "### Solution end"
   ]
  },
  {
   "cell_type": "markdown",
   "id": "8701b837-a5d4-4caa-a84d-e02a0db87f8b",
   "metadata": {},
   "source": [
    "#### Question 8\n",
    "Encrypt two messages $m1$ and $m2$, then calculate the sum and product of these cypertexts, decrypt them and verify whether the results are correct."
   ]
  },
  {
   "cell_type": "code",
   "execution_count": 15,
   "id": "967e3194-0f25-48a9-9102-c1b696b43e25",
   "metadata": {},
   "outputs": [
    {
     "name": "stdout",
     "output_type": "stream",
     "text": [
      "1\n",
      "0\n"
     ]
    }
   ],
   "source": [
    "# Your code here\n",
    "### Solution\n",
    "p = KeyGenSym()\n",
    "m1 = 0\n",
    "m2 = 1\n",
    "c1 = EncSym(p, m1)\n",
    "c2 = EncSym(p, m2)\n",
    "\n",
    "c_sum = c1 + c2\n",
    "c_product = c1 * c2\n",
    "\n",
    "print(DecSym(p, c_sum))\n",
    "print(DecSym(p, c_product))\n",
    "### Solution end"
   ]
  },
  {
   "cell_type": "markdown",
   "id": "a45e8637-54f6-4ca7-b098-48704bfb34b5",
   "metadata": {},
   "source": [
    "#### Question 9\n",
    "Demonstrate that noise will eventually prevent proper decryption by increasing the number of iterations of an operation. How many iterations can you perform before the decrypted result becomes invalid?"
   ]
  },
  {
   "cell_type": "code",
   "execution_count": 16,
   "id": "a6d26124-4776-4319-a1ce-5fbf399d322d",
   "metadata": {},
   "outputs": [
    {
     "name": "stdout",
     "output_type": "stream",
     "text": [
      "Invalid after 2 iterations\n"
     ]
    }
   ],
   "source": [
    "# Your code here\n",
    "### Solution\n",
    "count = 0\n",
    "enc_count = 0\n",
    "p = KeyGenSym()\n",
    "\n",
    "for i in range(1, 1001):\n",
    "    rand = random.randint(0,1)\n",
    "    count += rand\n",
    "    enc_count += EncSym(p, rand)\n",
    "    if count - DecSym(p, enc_count) % 2 != 0:\n",
    "        print(\"Invalid after {} iterations\".format(i))\n",
    "        break\n",
    "### Solution end"
   ]
  },
  {
   "cell_type": "markdown",
   "id": "6c1f7bc3-8a55-4955-972c-e5e654d70c91",
   "metadata": {},
   "source": [
    "## Full Homomorphic Encryption (FHE)\n",
    "As mentioned in the lecture, this is considered somewhat of the \"holy grail\" of homomorphic encryption. Let's try it out and see how it differs from PHE.\n",
    "\n",
    "For this exercise, we'll be making use of a package called [TenSEAL](https://github.com/OpenMined/TenSEAL) which provides a library for HE on vectors using [Microsoft SEAL](https://github.com/Microsoft/SEAL) (a HE library in C++). The first step is installing and importing TenSEAL into out notebook."
   ]
  },
  {
   "cell_type": "code",
   "execution_count": 17,
   "id": "eb70156d-ad06-45b1-bdac-bf2af45aaf87",
   "metadata": {},
   "outputs": [
    {
     "name": "stdout",
     "output_type": "stream",
     "text": [
      "Requirement already satisfied: tenseal in /opt/conda/lib/python3.10/site-packages (0.3.14)\n"
     ]
    }
   ],
   "source": [
    "# Install the TenSEAL package\n",
    "!pip install tenseal\n",
    "import tenseal as ts\n",
    "\n",
    "# Setup TenSEAL context\n",
    "context = ts.context(ts.SCHEME_TYPE.BFV, poly_modulus_degree=4096, plain_modulus=1032193)"
   ]
  },
  {
   "cell_type": "markdown",
   "id": "5be6ed0b-f11c-47d5-840d-aa1977bb5926",
   "metadata": {},
   "source": [
    "Great! Now we can start with actually doing some homomorphic encryption. Let's start of with an easy example:"
   ]
  },
  {
   "cell_type": "code",
   "execution_count": 18,
   "id": "82a8ed3b-3909-4f36-978f-c82ffcba83b4",
   "metadata": {},
   "outputs": [
    {
     "name": "stdout",
     "output_type": "stream",
     "text": [
      "[101, 112, 123, 134, 145]\n",
      "[91, 92, 93, 94, 95]\n",
      "[1001, 1104, 1209, 1316, 1425]\n"
     ]
    }
   ],
   "source": [
    "# Example A\n",
    "plain_vector = [100, 110, 120, 130, 140]\n",
    "encrypted_vector = ts.bfv_vector(context, plain_vector)\n",
    "\n",
    "add_result = encrypted_vector + [1, 2, 3, 4, 5]\n",
    "print(add_result.decrypt())\n",
    "\n",
    "substract_result = add_result - [10, 20, 30, 40, 50]\n",
    "print(substract_result.decrypt())\n",
    "\n",
    "multiplication_result = substract_result * [11, 12, 13, 14, 15]\n",
    "print(multiplication_result.decrypt())"
   ]
  },
  {
   "cell_type": "markdown",
   "id": "d8488743-2950-4488-b59b-85b3730630e0",
   "metadata": {},
   "source": [
    "As you may have noticed, we did not have to do any key management ourselves as the *TenSEALContext* is handling this for us. This also means that the *TenSEALContext* contains the secret key used for encryption! While this is handy for this exercise (as we can just tell it to decrypt without providing a key), it goes without saying that in real-world usecases, only the public key should be available to the party doing the processing (e.g. a cloud service)."
   ]
  },
  {
   "cell_type": "markdown",
   "id": "506316fe-b0e9-454b-85f8-01ba981ffe90",
   "metadata": {},
   "source": [
    "#### Question 10\n",
    "How does the example above differ from the earlier examples using PHE? I.e. how does this illustrate one of the major advantages of FHE compared to PHE?"
   ]
  },
  {
   "cell_type": "markdown",
   "id": "019792b2-baba-40a5-8a42-8ac331c23a85",
   "metadata": {},
   "source": [
    "*your answer here*\n",
    "<span style=\"color:red\">\n",
    "Solution: This example shows that FHE supports multiple different types of operations on data. While not directly shown in the example, it also supports an unlimited number of iterations for these operations.\n",
    "</span>"
   ]
  },
  {
   "cell_type": "markdown",
   "id": "62d14d3e-e5e6-4665-964b-52111ec1d33b",
   "metadata": {},
   "source": [
    "#### Question 11\n",
    "Can you think of an example where PHE would not be suitable but FHE is?"
   ]
  },
  {
   "cell_type": "markdown",
   "id": "5d442d61-7626-429d-aeca-9f9e8bfbefcb",
   "metadata": {},
   "source": [
    "*your answer here*\n",
    "<span style=\"color:red\">\n",
    "    Solution: various answers can be correct, either mentioning a usecase where multiple different types of operations and/or multiple iterations are required.\n",
    "</span>"
   ]
  },
  {
   "cell_type": "markdown",
   "id": "399999f7-c55a-4f92-be7e-ad760fcc0ac9",
   "metadata": {},
   "source": [
    "Now, let's demonstrate a more realistic usecase of FHE in the following example. Here, we'll use FHE to encrypt data used for facial recognition. More specifically, we'll be using a library called [DeepFace](https://github.com/serengil/deepface).\n",
    "\n",
    "We've already installed and initialized TenSEAL, so we're going to re-use the context we generated earlier. Again, please note that this context also contains the private key which you would normally not share with the party doing the processing.\n",
    "\n",
    "However, to proceed, we will need to install and initialize DeepFace. We will also load some pictures of faces to use, which in this case will be of actor Nicolas Cage.\n",
    "Note that the output below will throw some warnings stating the lack of cuda drivers on machines without a GPU (for example, when running on JupyterHub). DeepFace will still work, but will use (slower) CPU processing, which is fine for this exercise."
   ]
  },
  {
   "cell_type": "code",
   "execution_count": 19,
   "id": "e7d6c7b5-4cee-4b81-b2a8-f249304aeb30",
   "metadata": {},
   "outputs": [
    {
     "name": "stdout",
     "output_type": "stream",
     "text": [
      "Collecting deepface\n",
      "  Using cached deepface-0.0.79-py3-none-any.whl (49 kB)\n",
      "Requirement already satisfied: numpy>=1.14.0 in /opt/conda/lib/python3.10/site-packages (from deepface) (1.24.4)\n",
      "Requirement already satisfied: pandas>=0.23.4 in /opt/conda/lib/python3.10/site-packages (from deepface) (2.1.2)\n",
      "Requirement already satisfied: tqdm>=4.30.0 in /opt/conda/lib/python3.10/site-packages (from deepface) (4.66.1)\n",
      "Requirement already satisfied: gdown>=3.10.1 in /opt/conda/lib/python3.10/site-packages (from deepface) (4.7.1)\n",
      "Requirement already satisfied: Pillow>=5.2.0 in /opt/conda/lib/python3.10/site-packages (from deepface) (10.0.0)\n",
      "Requirement already satisfied: opencv-python>=4.5.5.64 in /opt/conda/lib/python3.10/site-packages (from deepface) (4.8.1.78)\n",
      "Requirement already satisfied: tensorflow>=1.9.0 in /opt/conda/lib/python3.10/site-packages (from deepface) (2.15.0)\n",
      "Requirement already satisfied: keras>=2.2.0 in /opt/conda/lib/python3.10/site-packages (from deepface) (2.15.0)\n",
      "Requirement already satisfied: Flask>=1.1.2 in /opt/conda/lib/python3.10/site-packages (from deepface) (3.0.0)\n",
      "Requirement already satisfied: mtcnn>=0.1.0 in /opt/conda/lib/python3.10/site-packages (from deepface) (0.1.1)\n",
      "Collecting retina-face>=0.0.1 (from deepface)\n",
      "  Using cached retina_face-0.0.13-py3-none-any.whl (16 kB)\n",
      "Requirement already satisfied: fire>=0.4.0 in /opt/conda/lib/python3.10/site-packages (from deepface) (0.5.0)\n",
      "Requirement already satisfied: gunicorn>=20.1.0 in /opt/conda/lib/python3.10/site-packages (from deepface) (21.2.0)\n",
      "Requirement already satisfied: six in /opt/conda/lib/python3.10/site-packages (from fire>=0.4.0->deepface) (1.16.0)\n",
      "Requirement already satisfied: termcolor in /opt/conda/lib/python3.10/site-packages (from fire>=0.4.0->deepface) (2.3.0)\n",
      "Requirement already satisfied: Werkzeug>=3.0.0 in /opt/conda/lib/python3.10/site-packages (from Flask>=1.1.2->deepface) (3.0.1)\n",
      "Requirement already satisfied: Jinja2>=3.1.2 in /opt/conda/lib/python3.10/site-packages (from Flask>=1.1.2->deepface) (3.1.2)\n",
      "Requirement already satisfied: itsdangerous>=2.1.2 in /opt/conda/lib/python3.10/site-packages (from Flask>=1.1.2->deepface) (2.1.2)\n",
      "Requirement already satisfied: click>=8.1.3 in /opt/conda/lib/python3.10/site-packages (from Flask>=1.1.2->deepface) (8.1.7)\n",
      "Requirement already satisfied: blinker>=1.6.2 in /opt/conda/lib/python3.10/site-packages (from Flask>=1.1.2->deepface) (1.7.0)\n",
      "Requirement already satisfied: filelock in /opt/conda/lib/python3.10/site-packages (from gdown>=3.10.1->deepface) (3.13.1)\n",
      "Requirement already satisfied: requests[socks] in /opt/conda/lib/python3.10/site-packages (from gdown>=3.10.1->deepface) (2.28.1)\n",
      "Requirement already satisfied: beautifulsoup4 in /opt/conda/lib/python3.10/site-packages (from gdown>=3.10.1->deepface) (4.11.1)\n",
      "Requirement already satisfied: packaging in /opt/conda/lib/python3.10/site-packages (from gunicorn>=20.1.0->deepface) (21.3)\n",
      "Requirement already satisfied: python-dateutil>=2.8.2 in /opt/conda/lib/python3.10/site-packages (from pandas>=0.23.4->deepface) (2.8.2)\n",
      "Requirement already satisfied: pytz>=2020.1 in /opt/conda/lib/python3.10/site-packages (from pandas>=0.23.4->deepface) (2022.6)\n",
      "Requirement already satisfied: tzdata>=2022.1 in /opt/conda/lib/python3.10/site-packages (from pandas>=0.23.4->deepface) (2023.3)\n",
      "Requirement already satisfied: absl-py>=1.0.0 in /opt/conda/lib/python3.10/site-packages (from tensorflow>=1.9.0->deepface) (2.0.0)\n",
      "Requirement already satisfied: astunparse>=1.6.0 in /opt/conda/lib/python3.10/site-packages (from tensorflow>=1.9.0->deepface) (1.6.3)\n",
      "Requirement already satisfied: flatbuffers>=23.5.26 in /opt/conda/lib/python3.10/site-packages (from tensorflow>=1.9.0->deepface) (23.5.26)\n",
      "Requirement already satisfied: gast!=0.5.0,!=0.5.1,!=0.5.2,>=0.2.1 in /opt/conda/lib/python3.10/site-packages (from tensorflow>=1.9.0->deepface) (0.5.4)\n",
      "Requirement already satisfied: google-pasta>=0.1.1 in /opt/conda/lib/python3.10/site-packages (from tensorflow>=1.9.0->deepface) (0.2.0)\n",
      "Requirement already satisfied: h5py>=2.9.0 in /opt/conda/lib/python3.10/site-packages (from tensorflow>=1.9.0->deepface) (3.9.0)\n",
      "Requirement already satisfied: libclang>=13.0.0 in /opt/conda/lib/python3.10/site-packages (from tensorflow>=1.9.0->deepface) (16.0.6)\n",
      "Requirement already satisfied: ml-dtypes~=0.2.0 in /opt/conda/lib/python3.10/site-packages (from tensorflow>=1.9.0->deepface) (0.2.0)\n",
      "Requirement already satisfied: opt-einsum>=2.3.2 in /opt/conda/lib/python3.10/site-packages (from tensorflow>=1.9.0->deepface) (3.3.0)\n",
      "Requirement already satisfied: protobuf!=4.21.0,!=4.21.1,!=4.21.2,!=4.21.3,!=4.21.4,!=4.21.5,<5.0.0dev,>=3.20.3 in /opt/conda/lib/python3.10/site-packages (from tensorflow>=1.9.0->deepface) (4.23.3)\n",
      "Requirement already satisfied: setuptools in /opt/conda/lib/python3.10/site-packages (from tensorflow>=1.9.0->deepface) (65.5.1)\n",
      "Requirement already satisfied: typing-extensions>=3.6.6 in /opt/conda/lib/python3.10/site-packages (from tensorflow>=1.9.0->deepface) (4.4.0)\n",
      "Requirement already satisfied: wrapt<1.15,>=1.11.0 in /opt/conda/lib/python3.10/site-packages (from tensorflow>=1.9.0->deepface) (1.14.1)\n",
      "Requirement already satisfied: tensorflow-io-gcs-filesystem>=0.23.1 in /opt/conda/lib/python3.10/site-packages (from tensorflow>=1.9.0->deepface) (0.34.0)\n",
      "Requirement already satisfied: grpcio<2.0,>=1.24.3 in /opt/conda/lib/python3.10/site-packages (from tensorflow>=1.9.0->deepface) (1.59.3)\n",
      "Requirement already satisfied: tensorboard<2.16,>=2.15 in /opt/conda/lib/python3.10/site-packages (from tensorflow>=1.9.0->deepface) (2.15.1)\n",
      "Requirement already satisfied: tensorflow-estimator<2.16,>=2.15.0 in /opt/conda/lib/python3.10/site-packages (from tensorflow>=1.9.0->deepface) (2.15.0)\n",
      "Requirement already satisfied: wheel<1.0,>=0.23.0 in /opt/conda/lib/python3.10/site-packages (from astunparse>=1.6.0->tensorflow>=1.9.0->deepface) (0.38.4)\n",
      "Requirement already satisfied: MarkupSafe>=2.0 in /opt/conda/lib/python3.10/site-packages (from Jinja2>=3.1.2->Flask>=1.1.2->deepface) (2.1.1)\n",
      "Requirement already satisfied: google-auth<3,>=1.6.3 in /opt/conda/lib/python3.10/site-packages (from tensorboard<2.16,>=2.15->tensorflow>=1.9.0->deepface) (2.23.4)\n",
      "Requirement already satisfied: google-auth-oauthlib<2,>=0.5 in /opt/conda/lib/python3.10/site-packages (from tensorboard<2.16,>=2.15->tensorflow>=1.9.0->deepface) (1.1.0)\n",
      "Requirement already satisfied: markdown>=2.6.8 in /opt/conda/lib/python3.10/site-packages (from tensorboard<2.16,>=2.15->tensorflow>=1.9.0->deepface) (3.5.1)\n",
      "Requirement already satisfied: tensorboard-data-server<0.8.0,>=0.7.0 in /opt/conda/lib/python3.10/site-packages (from tensorboard<2.16,>=2.15->tensorflow>=1.9.0->deepface) (0.7.2)\n",
      "Requirement already satisfied: soupsieve>1.2 in /opt/conda/lib/python3.10/site-packages (from beautifulsoup4->gdown>=3.10.1->deepface) (2.3.2.post1)\n",
      "Requirement already satisfied: pyparsing!=3.0.5,>=2.0.2 in /opt/conda/lib/python3.10/site-packages (from packaging->gunicorn>=20.1.0->deepface) (3.0.9)\n",
      "Requirement already satisfied: charset-normalizer<3,>=2 in /opt/conda/lib/python3.10/site-packages (from requests[socks]->gdown>=3.10.1->deepface) (2.1.1)\n",
      "Requirement already satisfied: idna<4,>=2.5 in /opt/conda/lib/python3.10/site-packages (from requests[socks]->gdown>=3.10.1->deepface) (3.4)\n",
      "Requirement already satisfied: urllib3<1.27,>=1.21.1 in /opt/conda/lib/python3.10/site-packages (from requests[socks]->gdown>=3.10.1->deepface) (1.26.13)\n",
      "Requirement already satisfied: certifi>=2017.4.17 in /opt/conda/lib/python3.10/site-packages (from requests[socks]->gdown>=3.10.1->deepface) (2023.7.22)\n",
      "Requirement already satisfied: PySocks!=1.5.7,>=1.5.6 in /opt/conda/lib/python3.10/site-packages (from requests[socks]->gdown>=3.10.1->deepface) (1.7.1)\n",
      "Requirement already satisfied: cachetools<6.0,>=2.0.0 in /opt/conda/lib/python3.10/site-packages (from google-auth<3,>=1.6.3->tensorboard<2.16,>=2.15->tensorflow>=1.9.0->deepface) (5.3.2)\n",
      "Requirement already satisfied: pyasn1-modules>=0.2.1 in /opt/conda/lib/python3.10/site-packages (from google-auth<3,>=1.6.3->tensorboard<2.16,>=2.15->tensorflow>=1.9.0->deepface) (0.3.0)\n",
      "Requirement already satisfied: rsa<5,>=3.1.4 in /opt/conda/lib/python3.10/site-packages (from google-auth<3,>=1.6.3->tensorboard<2.16,>=2.15->tensorflow>=1.9.0->deepface) (4.9)\n",
      "Requirement already satisfied: requests-oauthlib>=0.7.0 in /opt/conda/lib/python3.10/site-packages (from google-auth-oauthlib<2,>=0.5->tensorboard<2.16,>=2.15->tensorflow>=1.9.0->deepface) (1.3.1)\n",
      "Requirement already satisfied: pyasn1<0.6.0,>=0.4.6 in /opt/conda/lib/python3.10/site-packages (from pyasn1-modules>=0.2.1->google-auth<3,>=1.6.3->tensorboard<2.16,>=2.15->tensorflow>=1.9.0->deepface) (0.5.0)\n",
      "Requirement already satisfied: oauthlib>=3.0.0 in /opt/conda/lib/python3.10/site-packages (from requests-oauthlib>=0.7.0->google-auth-oauthlib<2,>=0.5->tensorboard<2.16,>=2.15->tensorflow>=1.9.0->deepface) (3.2.2)\n",
      "Installing collected packages: retina-face, deepface\n",
      "Successfully installed deepface-0.0.79 retina-face-0.0.13\n"
     ]
    },
    {
     "name": "stderr",
     "output_type": "stream",
     "text": [
      "2023-11-20 11:23:26.909883: I external/local_tsl/tsl/cuda/cudart_stub.cc:31] Could not find cuda drivers on your machine, GPU will not be used.\n",
      "2023-11-20 11:23:26.949769: E external/local_xla/xla/stream_executor/cuda/cuda_dnn.cc:9261] Unable to register cuDNN factory: Attempting to register factory for plugin cuDNN when one has already been registered\n",
      "2023-11-20 11:23:26.949824: E external/local_xla/xla/stream_executor/cuda/cuda_fft.cc:607] Unable to register cuFFT factory: Attempting to register factory for plugin cuFFT when one has already been registered\n",
      "2023-11-20 11:23:26.950662: E external/local_xla/xla/stream_executor/cuda/cuda_blas.cc:1515] Unable to register cuBLAS factory: Attempting to register factory for plugin cuBLAS when one has already been registered\n",
      "2023-11-20 11:23:26.956941: I external/local_tsl/tsl/cuda/cudart_stub.cc:31] Could not find cuda drivers on your machine, GPU will not be used.\n",
      "2023-11-20 11:23:26.957681: I tensorflow/core/platform/cpu_feature_guard.cc:182] This TensorFlow binary is optimized to use available CPU instructions in performance-critical operations.\n",
      "To enable the following instructions: AVX2 FMA, in other operations, rebuild TensorFlow with the appropriate compiler flags.\n",
      "2023-11-20 11:23:29.202052: W tensorflow/compiler/tf2tensorrt/utils/py_utils.cc:38] TF-TRT Warning: Could not find TensorRT\n"
     ]
    }
   ],
   "source": [
    "#[Client side]\n",
    "\n",
    "# Install DeepFace\n",
    "!pip install deepface\n",
    "from deepface import DeepFace\n",
    "\n",
    "# Generate new context\n",
    "context = ts.context(ts.SCHEME_TYPE.CKKS, poly_modulus_degree = 8192, coeff_mod_bit_sizes = [60, 40, 40, 60])\n",
    "context.generate_galois_keys()\n",
    "context.global_scale = 2**40\n",
    "\n",
    "# Define image paths\n",
    "img1_path = \"img/cage_1.jpg\"\n",
    "img2_path = \"img/cage_2.jpg\"\n",
    "\n",
    "img1_embedding = DeepFace.represent(img1_path, model_name = 'VGG-Face')[0][\"embedding\"]\n",
    "img2_embedding = DeepFace.represent(img2_path, model_name = 'VGG-Face')[0][\"embedding\"]"
   ]
  },
  {
   "cell_type": "markdown",
   "id": "0b589623-8056-499d-ae77-50c807c47944",
   "metadata": {},
   "source": [
    "We'll also define some functions to write and read the (encrypted) image data to and from files."
   ]
  },
  {
   "cell_type": "code",
   "execution_count": 20,
   "id": "a86ee6b6-f126-4c76-b55a-1ebeea37b0dd",
   "metadata": {},
   "outputs": [],
   "source": [
    "import base64\n",
    "\n",
    "def write_data(file_name, data):\n",
    "    if type(data) == bytes:\n",
    "        #bytes to base64\n",
    "        data = base64.b64encode(data)\n",
    "         \n",
    "    with open(file_name, 'wb') as f: \n",
    "        f.write(data)\n",
    " \n",
    "def read_data(file_name):\n",
    "    with open(file_name, \"rb\") as f:\n",
    "        data = f.read()\n",
    "    #base64 to bytes\n",
    "    return base64.b64decode(data)"
   ]
  },
  {
   "cell_type": "markdown",
   "id": "aaa29a7e-0692-4567-8cfc-00c92286c207",
   "metadata": {},
   "source": [
    "Okay, now we're all set to do some encryption!"
   ]
  },
  {
   "cell_type": "code",
   "execution_count": 21,
   "id": "fbade80b-a881-4faa-8e0f-319b7d4883a7",
   "metadata": {},
   "outputs": [],
   "source": [
    "#[Client side]\n",
    "enc_v1 = ts.ckks_vector(context, img1_embedding)\n",
    "enc_v2 = ts.ckks_vector(context, img2_embedding)\n",
    " \n",
    "enc_v1_proto = enc_v1.serialize()\n",
    "enc_v2_proto = enc_v2.serialize()\n",
    " \n",
    "write_data(\"enc_v1.txt\", enc_v1_proto)\n",
    "write_data(\"enc_v2.txt\", enc_v2_proto)"
   ]
  },
  {
   "cell_type": "markdown",
   "id": "68c8fc52-de57-4370-8b14-0b010fdeca3b",
   "metadata": {},
   "source": [
    "If all goes well, then you should now have two `.txt` files in the same directory as this notebook. These files contain encrypted data from the images used for facial recognition. Let's assume this encrypted data is sent to a server for facial recognition. What follows is code that runs on the server.\n",
    "\n",
    "I will not go into detail on how this code works, you can find out more about that in both the source for this exercise and [here](https://sefiks.com/2018/08/13/cosine-similarity-in-machine-learning/) if you are interested."
   ]
  },
  {
   "cell_type": "code",
   "execution_count": 22,
   "id": "d28ba568-6ed8-4867-b103-5d4d84e82e61",
   "metadata": {},
   "outputs": [],
   "source": [
    "#[Server side]\n",
    "#restore the embedding of person 1\n",
    "enc_v1_proto = read_data(\"enc_v1.txt\")\n",
    "enc_v1 = ts.lazy_ckks_vector_from(enc_v1_proto)\n",
    "enc_v1.link_context(context)\n",
    " \n",
    "#restore the embedding of person 2\n",
    "enc_v2_proto = read_data(\"enc_v2.txt\")\n",
    "enc_v2 = ts.lazy_ckks_vector_from(enc_v2_proto)\n",
    "enc_v2.link_context(context)\n",
    " \n",
    "#euclidean distance\n",
    "euclidean_squared = enc_v1 - enc_v2\n",
    "euclidean_squared = euclidean_squared.dot(euclidean_squared)\n",
    " \n",
    "#store the homomorphic encrypted squared euclidean distance\n",
    "write_data(\"euclidean_squared.txt\", euclidean_squared.serialize())"
   ]
  },
  {
   "cell_type": "markdown",
   "id": "52957f34-c834-4f71-92be-90121216b1f5",
   "metadata": {},
   "source": [
    "Alright, now let's get back to the client side and look at those results:"
   ]
  },
  {
   "cell_type": "code",
   "execution_count": 23,
   "id": "eaab4d64-6c71-48a0-8097-5b6a98a8d62a",
   "metadata": {},
   "outputs": [
    {
     "name": "stdout",
     "output_type": "stream",
     "text": [
      "they are same person\n"
     ]
    }
   ],
   "source": [
    "#load euclidean squared value\n",
    "euclidean_squared_proto = read_data(\"euclidean_squared.txt\")\n",
    "euclidean_squared = ts.lazy_ckks_vector_from(euclidean_squared_proto)\n",
    "euclidean_squared.link_context(context)\n",
    " \n",
    "#decrypt it\n",
    "euclidean_squared_plain = euclidean_squared.decrypt()[0]\n",
    "\n",
    "if euclidean_squared_plain < 100:\n",
    "    print(\"they are same person\")\n",
    "else:\n",
    "    print(\"they are different persons\")"
   ]
  },
  {
   "cell_type": "markdown",
   "id": "c375c661-46e8-44ea-8490-bba78290bd4f",
   "metadata": {},
   "source": [
    "If all goes well then you should see that both images are recognized as the same person!"
   ]
  },
  {
   "cell_type": "markdown",
   "id": "e34a2afe-1be3-431a-a5e6-de64b719747e",
   "metadata": {},
   "source": [
    "#### Question 12\n",
    "Take a look at the `[Server side]` code of the example above, what information is actually shared with the cloud service?"
   ]
  },
  {
   "cell_type": "markdown",
   "id": "a4c04253-270f-4014-a815-239ee7a56971",
   "metadata": {},
   "source": [
    "*your answer here*\n",
    "<span style=\"color: red\">\n",
    "    Solution: only encrypted data that Deepface extracted from the image are shared in this example. The image itself never leaves the client device!\n",
    "</span>"
   ]
  },
  {
   "cell_type": "markdown",
   "id": "4aa5d2ae-97d9-4908-92c1-40c917debe89",
   "metadata": {},
   "source": [
    "### Acknowledgements\n",
    "This exercise is adapted from the following:\n",
    "\n",
    "PHE/SWHE:\n",
    "- Student Takeover Exercise 2022\n",
    "\n",
    "FHE:\n",
    "- [Sefik Ilkin Serengil, A Step by Step Fully Homomorphic Encryption Example with TenSEAL in Python](https://sefiks.com/2023/04/10/a-step-by-step-fully-homomorphic-encryption-example-with-tenseal-in-python/)\n",
    "- [Sefik Ilkin Serengil, Homomorphic Facial Recognition with TenSEAL](https://sefiks.com/2021/12/01/homomorphic-facial-recognition-with-tenseal/)\n",
    "- [The TenSEAL Authors, TenSEAL Tutorials](https://github.com/OpenMined/TenSEAL/blob/main/tutorials/Tutorial%200%20-%20Getting%20Started.ipynb)\n",
    "\n",
    "Images used:\n",
    "- `cage_1.jpg` -> [CC-BY-SA Nicolas Genin](https://commons.wikimedia.org/wiki/File:Nicolas_Cage_-_66%C3%A8me_Festival_de_Venise_(Mostra).jpg)\n",
    "- `cage_2.jpg` -> [CC-BY-SA Gerald Geronimo / G155 Multimedia](https://commons.wikimedia.org/wiki/File:Nicolas_Cage_Comic-Con_2011.jpg)"
   ]
  },
  {
   "cell_type": "code",
   "execution_count": null,
   "id": "45977a48-e2d8-4e35-b11e-07f8e19f3b28",
   "metadata": {},
   "outputs": [],
   "source": []
  }
 ],
 "metadata": {
  "kernelspec": {
   "display_name": "Python 3 (ipykernel)",
   "language": "python",
   "name": "python3"
  },
  "language_info": {
   "codemirror_mode": {
    "name": "ipython",
    "version": 3
   },
   "file_extension": ".py",
   "mimetype": "text/x-python",
   "name": "python",
   "nbconvert_exporter": "python",
   "pygments_lexer": "ipython3",
   "version": "3.10.8"
  }
 },
 "nbformat": 4,
 "nbformat_minor": 5
}
